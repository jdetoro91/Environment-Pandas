{
 "cells": [
  {
   "cell_type": "markdown",
   "metadata": {},
   "source": [
    "# Hello Pandas"
   ]
  },
  {
   "cell_type": "code",
   "execution_count": 2,
   "metadata": {},
   "outputs": [
    {
     "name": "stdout",
     "output_type": "stream",
     "text": [
      "1.1.3\n"
     ]
    }
   ],
   "source": [
    "import pandas as pd\n",
    "\n",
    "print(pd.__version__)"
   ]
  },
  {
   "cell_type": "code",
   "execution_count": 8,
   "metadata": {},
   "outputs": [],
   "source": [
    "from faker import Faker\n",
    "import json\n",
    "\n",
    "faker = Faker()\n",
    "profiles = []\n",
    "for i in range(10):\n",
    "    profiles.append(faker.simple_profile()) \n",
    "\n",
    "df = pd.read_json(json.dumps(profiles, default=str))"
   ]
  },
  {
   "cell_type": "code",
   "execution_count": 9,
   "metadata": {},
   "outputs": [
    {
     "data": {
      "text/html": [
       "<div>\n",
       "<style scoped>\n",
       "    .dataframe tbody tr th:only-of-type {\n",
       "        vertical-align: middle;\n",
       "    }\n",
       "\n",
       "    .dataframe tbody tr th {\n",
       "        vertical-align: top;\n",
       "    }\n",
       "\n",
       "    .dataframe thead th {\n",
       "        text-align: right;\n",
       "    }\n",
       "</style>\n",
       "<table border=\"1\" class=\"dataframe\">\n",
       "  <thead>\n",
       "    <tr style=\"text-align: right;\">\n",
       "      <th></th>\n",
       "      <th>username</th>\n",
       "      <th>name</th>\n",
       "      <th>sex</th>\n",
       "      <th>address</th>\n",
       "      <th>mail</th>\n",
       "      <th>birthdate</th>\n",
       "    </tr>\n",
       "  </thead>\n",
       "  <tbody>\n",
       "    <tr>\n",
       "      <th>0</th>\n",
       "      <td>mlawson</td>\n",
       "      <td>Belinda Myers</td>\n",
       "      <td>F</td>\n",
       "      <td>45806 John Greens Apt. 538\\nNorth Williamport,...</td>\n",
       "      <td>ahensley@yahoo.com</td>\n",
       "      <td>1947-04-15</td>\n",
       "    </tr>\n",
       "    <tr>\n",
       "      <th>1</th>\n",
       "      <td>george89</td>\n",
       "      <td>Kevin Anthony</td>\n",
       "      <td>M</td>\n",
       "      <td>9028 Carter Valley\\nSouth Kevinview, IL 34285</td>\n",
       "      <td>vharris@yahoo.com</td>\n",
       "      <td>1973-11-09</td>\n",
       "    </tr>\n",
       "    <tr>\n",
       "      <th>2</th>\n",
       "      <td>abigailgarcia</td>\n",
       "      <td>Tyrone James</td>\n",
       "      <td>M</td>\n",
       "      <td>6921 Andrea Gateway\\nEast Andrea, FL 79477</td>\n",
       "      <td>kenneth78@hotmail.com</td>\n",
       "      <td>2002-02-04</td>\n",
       "    </tr>\n",
       "    <tr>\n",
       "      <th>3</th>\n",
       "      <td>zmathews</td>\n",
       "      <td>Joseph Navarro</td>\n",
       "      <td>M</td>\n",
       "      <td>6389 Calhoun Plain\\nWest Jessicaville, TX 66059</td>\n",
       "      <td>luis10@yahoo.com</td>\n",
       "      <td>1920-03-13</td>\n",
       "    </tr>\n",
       "    <tr>\n",
       "      <th>4</th>\n",
       "      <td>millsmary</td>\n",
       "      <td>Brenda Murphy</td>\n",
       "      <td>F</td>\n",
       "      <td>27870 Glen Ferry\\nMorenoport, WA 85192</td>\n",
       "      <td>htaylor@hotmail.com</td>\n",
       "      <td>1928-04-14</td>\n",
       "    </tr>\n",
       "    <tr>\n",
       "      <th>5</th>\n",
       "      <td>rogerslauren</td>\n",
       "      <td>Mark Miller</td>\n",
       "      <td>M</td>\n",
       "      <td>671 Dillon Expressway Suite 493\\nWest Gabriell...</td>\n",
       "      <td>stephanielee@gmail.com</td>\n",
       "      <td>1978-09-11</td>\n",
       "    </tr>\n",
       "    <tr>\n",
       "      <th>6</th>\n",
       "      <td>hernandeztracy</td>\n",
       "      <td>Julie Miller</td>\n",
       "      <td>F</td>\n",
       "      <td>87043 Warner Dale\\nAndersonborough, LA 93793</td>\n",
       "      <td>lisa80@gmail.com</td>\n",
       "      <td>1931-03-13</td>\n",
       "    </tr>\n",
       "    <tr>\n",
       "      <th>7</th>\n",
       "      <td>whayes</td>\n",
       "      <td>Timothy Harvey</td>\n",
       "      <td>M</td>\n",
       "      <td>73177 Hood Plains\\nEast Tinashire, NY 05836</td>\n",
       "      <td>norristara@yahoo.com</td>\n",
       "      <td>1909-04-27</td>\n",
       "    </tr>\n",
       "    <tr>\n",
       "      <th>8</th>\n",
       "      <td>josephbennett</td>\n",
       "      <td>Pamela Cabrera</td>\n",
       "      <td>F</td>\n",
       "      <td>1711 Jimmy Villages Apt. 008\\nPattonborough, T...</td>\n",
       "      <td>charles31@hotmail.com</td>\n",
       "      <td>1950-08-30</td>\n",
       "    </tr>\n",
       "    <tr>\n",
       "      <th>9</th>\n",
       "      <td>briancontreras</td>\n",
       "      <td>Dawn Combs</td>\n",
       "      <td>F</td>\n",
       "      <td>2023 Sandra Crescent Suite 191\\nNicholsshire, ...</td>\n",
       "      <td>ojohnson@hotmail.com</td>\n",
       "      <td>2012-08-25</td>\n",
       "    </tr>\n",
       "  </tbody>\n",
       "</table>\n",
       "</div>"
      ],
      "text/plain": [
       "         username            name sex  \\\n",
       "0         mlawson   Belinda Myers   F   \n",
       "1        george89   Kevin Anthony   M   \n",
       "2   abigailgarcia    Tyrone James   M   \n",
       "3        zmathews  Joseph Navarro   M   \n",
       "4       millsmary   Brenda Murphy   F   \n",
       "5    rogerslauren     Mark Miller   M   \n",
       "6  hernandeztracy    Julie Miller   F   \n",
       "7          whayes  Timothy Harvey   M   \n",
       "8   josephbennett  Pamela Cabrera   F   \n",
       "9  briancontreras      Dawn Combs   F   \n",
       "\n",
       "                                             address                    mail  \\\n",
       "0  45806 John Greens Apt. 538\\nNorth Williamport,...      ahensley@yahoo.com   \n",
       "1      9028 Carter Valley\\nSouth Kevinview, IL 34285       vharris@yahoo.com   \n",
       "2         6921 Andrea Gateway\\nEast Andrea, FL 79477   kenneth78@hotmail.com   \n",
       "3    6389 Calhoun Plain\\nWest Jessicaville, TX 66059        luis10@yahoo.com   \n",
       "4             27870 Glen Ferry\\nMorenoport, WA 85192     htaylor@hotmail.com   \n",
       "5  671 Dillon Expressway Suite 493\\nWest Gabriell...  stephanielee@gmail.com   \n",
       "6       87043 Warner Dale\\nAndersonborough, LA 93793        lisa80@gmail.com   \n",
       "7        73177 Hood Plains\\nEast Tinashire, NY 05836    norristara@yahoo.com   \n",
       "8  1711 Jimmy Villages Apt. 008\\nPattonborough, T...   charles31@hotmail.com   \n",
       "9  2023 Sandra Crescent Suite 191\\nNicholsshire, ...    ojohnson@hotmail.com   \n",
       "\n",
       "    birthdate  \n",
       "0  1947-04-15  \n",
       "1  1973-11-09  \n",
       "2  2002-02-04  \n",
       "3  1920-03-13  \n",
       "4  1928-04-14  \n",
       "5  1978-09-11  \n",
       "6  1931-03-13  \n",
       "7  1909-04-27  \n",
       "8  1950-08-30  \n",
       "9  2012-08-25  "
      ]
     },
     "execution_count": 9,
     "metadata": {},
     "output_type": "execute_result"
    }
   ],
   "source": [
    "df"
   ]
  },
  {
   "cell_type": "code",
   "execution_count": 13,
   "metadata": {},
   "outputs": [
    {
     "data": {
      "text/plain": [
       "Index(['username', 'name', 'sex', 'address', 'mail', 'birthdate'], dtype='object')"
      ]
     },
     "execution_count": 13,
     "metadata": {},
     "output_type": "execute_result"
    }
   ],
   "source": [
    "df.keys()"
   ]
  },
  {
   "cell_type": "code",
   "execution_count": 21,
   "metadata": {},
   "outputs": [
    {
     "data": {
      "text/plain": "username     object\nname         object\nsex          object\naddress      object\nmail         object\nbirthdate    object\ndtype: object"
     },
     "execution_count": 21,
     "metadata": {},
     "output_type": "execute_result"
    }
   ],
   "source": [
    "df.dtypes"
   ]
  }
 ],
 "metadata": {
  "kernelspec": {
   "display_name": "Python 3",
   "language": "python",
   "name": "python3"
  },
  "language_info": {
   "codemirror_mode": {
    "name": "ipython",
    "version": 3
   },
   "file_extension": ".py",
   "mimetype": "text/x-python",
   "name": "python",
   "nbconvert_exporter": "python",
   "pygments_lexer": "ipython3",
   "version": "3.8.5"
  },
  "metadata": {
   "interpreter": {
    "hash": "cc6df05e281e868f0d80b79375172a1c275a91f2edbb49f4745d4627ea04bf12"
   }
  }
 },
 "nbformat": 4,
 "nbformat_minor": 5
}